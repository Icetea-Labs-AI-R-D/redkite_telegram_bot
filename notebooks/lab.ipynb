{
 "cells": [
  {
   "cell_type": "code",
   "execution_count": 6,
   "metadata": {},
   "outputs": [],
   "source": [
    "import requests\n",
    "import json\n",
    "\n",
    "def send_chat_message(conversation_id: str, content: str) -> dict:\n",
    "    \"\"\"\n",
    "    Send a chat message to the chatbot API and handle streaming response.\n",
    "    \n",
    "    Args:\n",
    "        conversation_id (str): The ID of the conversation\n",
    "        content (str): The message content\n",
    "        \n",
    "    Returns:\n",
    "        str: The complete response text\n",
    "    \"\"\"\n",
    "    url = \"http://54.158.157.54:10099/api/chatbot/v1/chat\"\n",
    "    \n",
    "    payload = {\n",
    "        \"conversation_id\": conversation_id,\n",
    "        \"content\": content,\n",
    "        \"suggested\": 0\n",
    "    }\n",
    "    \n",
    "    headers = {\n",
    "        \"Content-Type\": \"application/json\"\n",
    "    }\n",
    "    \n",
    "    try:\n",
    "        response = requests.post(url, json=payload, headers=headers, stream=True)\n",
    "        response.raise_for_status()\n",
    "        \n",
    "        # Process the streaming response\n",
    "        full_response = \"\"\n",
    "        for line in response.iter_lines():\n",
    "            if line:\n",
    "                # Remove 'data: ' prefix and decode\n",
    "                text = line.decode()\n",
    "                # print(text)\n",
    "                if text:  # Skip end marker\n",
    "                    full_response += text\n",
    "        \n",
    "        return full_response\n",
    "    except requests.exceptions.RequestException as e:\n",
    "        print(f\"Error making request: {e}\")\n",
    "        return None"
   ]
  },
  {
   "cell_type": "code",
   "execution_count": 7,
   "metadata": {},
   "outputs": [
    {
     "data": {
      "text/plain": [
       "'Hello! It seems like you\\'re saying \"alo\" again. If you have any questions or need information about IDO projects or the Game World on GameFi.org, feel free to ask!<stop><reply_markup>{\"text\": \"Maybe you want to know \\\\u2b07\\\\ufe0f:\", \"follow_up\": [\"What is GameFi.org?\", \"Upcoming IDO projects on GameFi.org?\", \"What is MOBOX game?\"]}</reply_markup>'"
      ]
     },
     "execution_count": 7,
     "metadata": {},
     "output_type": "execute_result"
    }
   ],
   "source": [
    "send_chat_message(\"123\", \"alo\")"
   ]
  }
 ],
 "metadata": {
  "kernelspec": {
   "display_name": ".venv",
   "language": "python",
   "name": "python3"
  },
  "language_info": {
   "codemirror_mode": {
    "name": "ipython",
    "version": 3
   },
   "file_extension": ".py",
   "mimetype": "text/x-python",
   "name": "python",
   "nbconvert_exporter": "python",
   "pygments_lexer": "ipython3",
   "version": "3.10.12"
  }
 },
 "nbformat": 4,
 "nbformat_minor": 2
}
