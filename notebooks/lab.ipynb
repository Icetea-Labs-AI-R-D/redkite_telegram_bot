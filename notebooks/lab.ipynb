{
 "cells": [
  {
   "cell_type": "code",
   "execution_count": 5,
   "metadata": {},
   "outputs": [],
   "source": [
    "import requests\n",
    "import json\n",
    "\n",
    "def send_chat_message(conversation_id: str, content: str) -> dict:\n",
    "    \"\"\"\n",
    "    Send a chat message to the chatbot API and handle streaming response.\n",
    "    \n",
    "    Args:\n",
    "        conversation_id (str): The ID of the conversation\n",
    "        content (str): The message content\n",
    "        \n",
    "    Returns:\n",
    "        str: The complete response text\n",
    "    \"\"\"\n",
    "    url = \"http://54.158.157.54:10088/api/chatbot/v1/chat\"\n",
    "    url = \"http://localhost:10088/api/chatbot/v1/chat\"\n",
    "    \n",
    "    payload = {\n",
    "        \"conversation_id\": conversation_id,\n",
    "        \"content\": content,\n",
    "        \"suggested\": 0\n",
    "    }\n",
    "    \n",
    "    headers = {\n",
    "        \"Content-Type\": \"application/json\"\n",
    "    }\n",
    "    \n",
    "    try:\n",
    "        response = requests.post(url, json=payload, headers=headers, stream=True)\n",
    "        response.raise_for_status()\n",
    "        \n",
    "        # Process the streaming response\n",
    "        full_response = \"\"\n",
    "        for line in response.iter_lines():\n",
    "            if line:\n",
    "                # Remove 'data: ' prefix and decode\n",
    "                text = line.decode()\n",
    "                # print(text)\n",
    "                if text:  # Skip end marker\n",
    "                    full_response += text\n",
    "        \n",
    "        return full_response\n",
    "    except requests.exceptions.RequestException as e:\n",
    "        print(f\"Error making request: {e}\")\n",
    "        return None"
   ]
  },
  {
   "cell_type": "code",
   "execution_count": 6,
   "metadata": {},
   "outputs": [
    {
     "data": {
      "text/plain": [
       "'<notify>✅ **Starting new dialog due to timeout**</notify>Hello! How can I assist you today? If you have any questions about IDO projects or the Game World on GameFi.org, feel free to ask!<stop><reply_markup>{\"text\": \"Maybe you want to know \\\\u2b07\\\\ufe0f:\", \"follow_up\": [\"What is GameFi.org?\", \"Upcoming IDO projects on GameFi.org?\", \"What is MOBOX game?\"]}</reply_markup>'"
      ]
     },
     "execution_count": 6,
     "metadata": {},
     "output_type": "execute_result"
    }
   ],
   "source": [
    "send_chat_message(\"123\", \"alo\")"
   ]
  },
  {
   "cell_type": "code",
   "execution_count": 2,
   "metadata": {},
   "outputs": [
    {
     "name": "stdout",
     "output_type": "stream",
     "text": [
      "cont<stop>\n",
      "cont\n"
     ]
    }
   ],
   "source": [
    "text = \"sfs</notify>cont<stop>\"\n",
    "\n",
    "print(text[text.index(\"</notify>\")+9:])\n",
    "text = text[text.index(\"</notify>\")+9:]\n",
    "print(text[:text.index(\"<stop>\")])"
   ]
  },
  {
   "cell_type": "code",
   "execution_count": 3,
   "metadata": {},
   "outputs": [
    {
     "data": {
      "text/plain": [
       "-1"
      ]
     },
     "execution_count": 3,
     "metadata": {},
     "output_type": "execute_result"
    }
   ],
   "source": [
    "text.find(\"</notify>\")"
   ]
  },
  {
   "cell_type": "code",
   "execution_count": 6,
   "metadata": {},
   "outputs": [
    {
     "ename": "AttributeError",
     "evalue": "'str' object has no attribute 'contains'",
     "output_type": "error",
     "traceback": [
      "\u001b[0;31m---------------------------------------------------------------------------\u001b[0m",
      "\u001b[0;31mAttributeError\u001b[0m                            Traceback (most recent call last)",
      "Cell \u001b[0;32mIn[6], line 1\u001b[0m\n\u001b[0;32m----> 1\u001b[0m \u001b[43mtext\u001b[49m\u001b[38;5;241;43m.\u001b[39;49m\u001b[43mcontains\u001b[49m(\u001b[38;5;124m\"\u001b[39m\u001b[38;5;124m</notify>\u001b[39m\u001b[38;5;124m\"\u001b[39m)\n",
      "\u001b[0;31mAttributeError\u001b[0m: 'str' object has no attribute 'contains'"
     ]
    }
   ],
   "source": [
    "text.contains(\"</notify>\")"
   ]
  },
  {
   "cell_type": "code",
   "execution_count": 1,
   "metadata": {},
   "outputs": [],
   "source": [
    "t = [1, 2, 3]\n",
    "t.extend([])"
   ]
  }
 ],
 "metadata": {
  "kernelspec": {
   "display_name": ".venv",
   "language": "python",
   "name": "python3"
  },
  "language_info": {
   "codemirror_mode": {
    "name": "ipython",
    "version": 3
   },
   "file_extension": ".py",
   "mimetype": "text/x-python",
   "name": "python",
   "nbconvert_exporter": "python",
   "pygments_lexer": "ipython3",
   "version": "3.10.12"
  }
 },
 "nbformat": 4,
 "nbformat_minor": 2
}
